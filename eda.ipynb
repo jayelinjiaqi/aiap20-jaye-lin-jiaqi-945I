{
 "cells": [
  {
   "cell_type": "code",
   "execution_count": 54,
   "id": "7396a4fe",
   "metadata": {},
   "outputs": [],
   "source": [
    "#import libraries\n",
    "import sqlite3\n",
    "import pandas as pd\n",
    "import matplotlib.pyplot as plt\n",
    "import seaborn as sns"
   ]
  },
  {
   "cell_type": "code",
   "execution_count": 55,
   "id": "7ef8200c",
   "metadata": {},
   "outputs": [
    {
     "name": "stdout",
     "output_type": "stream",
     "text": [
      "       Client ID       Age   Occupation Marital Status      Education Level  \\\n",
      "0          32885  57 years   technician        married          high.school   \n",
      "1           3170  55 years      unknown        married              unknown   \n",
      "2          32207  33 years  blue-collar        married             basic.9y   \n",
      "3           9404  36 years       admin.        married          high.school   \n",
      "4          14021  27 years    housemaid        married          high.school   \n",
      "...          ...       ...          ...            ...                  ...   \n",
      "41183       6266  58 years      retired        married  professional.course   \n",
      "41184      11285  37 years   management        married    university.degree   \n",
      "41185      38159  35 years       admin.        married          high.school   \n",
      "41186        861  40 years   management        married    university.degree   \n",
      "41187      15796  29 years       admin.         single    university.degree   \n",
      "\n",
      "      Credit Default Housing Loan Personal Loan Contact Method  \\\n",
      "0                 no           no           yes           Cell   \n",
      "1            unknown          yes            no      telephone   \n",
      "2                 no           no            no       cellular   \n",
      "3                 no           no            no      Telephone   \n",
      "4                 no         None            no           Cell   \n",
      "...              ...          ...           ...            ...   \n",
      "41183        unknown           no            no      Telephone   \n",
      "41184             no           no            no      telephone   \n",
      "41185             no         None            no       cellular   \n",
      "41186             no         None            no      telephone   \n",
      "41187             no          yes            no           Cell   \n",
      "\n",
      "       Campaign Calls  Previous Contact Days Subscription Status  \n",
      "0                   1                    999                  no  \n",
      "1                   2                    999                  no  \n",
      "2                   1                    999                  no  \n",
      "3                   4                    999                  no  \n",
      "4                   2                    999                  no  \n",
      "...               ...                    ...                 ...  \n",
      "41183               2                    999                  no  \n",
      "41184               1                    999                  no  \n",
      "41185               1                      4                 yes  \n",
      "41186               2                    999                  no  \n",
      "41187               2                    999                  no  \n",
      "\n",
      "[41188 rows x 12 columns]\n"
     ]
    }
   ],
   "source": [
    "# Connect to database\n",
    "conn = sqlite3.connect(\"/Users/jayelin/Downloads/data/bmarket.db\")\n",
    "\n",
    "# Fetch all rows from the 'lung_cancer' table\n",
    "cursor = conn.cursor()\n",
    "# cursor.execute(\"SELECT name FROM sqlite_master WHERE type='table'\")\n",
    "cursor.execute(\"SELECT * FROM bank_marketing\")\n",
    "rows = cursor.fetchall()\n",
    "\n",
    "# Create DataFrame from the results\n",
    "columns = [description[0] for description in cursor.description]  # Get column names\n",
    "df = pd.DataFrame(rows, columns=columns)\n",
    "\n",
    "# Print the DataFrame\n",
    "print(df)\n",
    "\n",
    "# Close the connection\n",
    "conn.close()\n"
   ]
  },
  {
   "cell_type": "code",
   "execution_count": 56,
   "id": "057a16fe",
   "metadata": {},
   "outputs": [
    {
     "data": {
      "text/plain": [
       "Client ID                    0\n",
       "Age                          0\n",
       "Occupation                   0\n",
       "Marital Status               0\n",
       "Education Level              0\n",
       "Credit Default               0\n",
       "Housing Loan             24789\n",
       "Personal Loan             4146\n",
       "Contact Method               0\n",
       "Campaign Calls               0\n",
       "Previous Contact Days        0\n",
       "Subscription Status          0\n",
       "dtype: int64"
      ]
     },
     "execution_count": 56,
     "metadata": {},
     "output_type": "execute_result"
    }
   ],
   "source": [
    "# Check for missing values\n",
    "df.isnull().sum()  "
   ]
  },
  {
   "cell_type": "code",
   "execution_count": 57,
   "id": "7ebf9837",
   "metadata": {},
   "outputs": [
    {
     "data": {
      "text/plain": [
       "(41188, 12)"
      ]
     },
     "execution_count": 57,
     "metadata": {},
     "output_type": "execute_result"
    }
   ],
   "source": [
    "df.shape"
   ]
  },
  {
   "cell_type": "code",
   "execution_count": 58,
   "id": "1e89d57f",
   "metadata": {},
   "outputs": [
    {
     "data": {
      "text/html": [
       "<div>\n",
       "<style scoped>\n",
       "    .dataframe tbody tr th:only-of-type {\n",
       "        vertical-align: middle;\n",
       "    }\n",
       "\n",
       "    .dataframe tbody tr th {\n",
       "        vertical-align: top;\n",
       "    }\n",
       "\n",
       "    .dataframe thead th {\n",
       "        text-align: right;\n",
       "    }\n",
       "</style>\n",
       "<table border=\"1\" class=\"dataframe\">\n",
       "  <thead>\n",
       "    <tr style=\"text-align: right;\">\n",
       "      <th></th>\n",
       "      <th>Client ID</th>\n",
       "      <th>Age</th>\n",
       "      <th>Occupation</th>\n",
       "      <th>Marital Status</th>\n",
       "      <th>Education Level</th>\n",
       "      <th>Credit Default</th>\n",
       "      <th>Housing Loan</th>\n",
       "      <th>Personal Loan</th>\n",
       "      <th>Contact Method</th>\n",
       "      <th>Campaign Calls</th>\n",
       "      <th>Previous Contact Days</th>\n",
       "      <th>Subscription Status</th>\n",
       "    </tr>\n",
       "  </thead>\n",
       "  <tbody>\n",
       "    <tr>\n",
       "      <th>count</th>\n",
       "      <td>41188.00000</td>\n",
       "      <td>41188</td>\n",
       "      <td>41188</td>\n",
       "      <td>41188</td>\n",
       "      <td>41188</td>\n",
       "      <td>41188</td>\n",
       "      <td>16399</td>\n",
       "      <td>37042</td>\n",
       "      <td>41188</td>\n",
       "      <td>41188.000000</td>\n",
       "      <td>41188.000000</td>\n",
       "      <td>41188</td>\n",
       "    </tr>\n",
       "    <tr>\n",
       "      <th>unique</th>\n",
       "      <td>NaN</td>\n",
       "      <td>77</td>\n",
       "      <td>12</td>\n",
       "      <td>4</td>\n",
       "      <td>8</td>\n",
       "      <td>3</td>\n",
       "      <td>3</td>\n",
       "      <td>3</td>\n",
       "      <td>4</td>\n",
       "      <td>NaN</td>\n",
       "      <td>NaN</td>\n",
       "      <td>2</td>\n",
       "    </tr>\n",
       "    <tr>\n",
       "      <th>top</th>\n",
       "      <td>NaN</td>\n",
       "      <td>150 years</td>\n",
       "      <td>admin.</td>\n",
       "      <td>married</td>\n",
       "      <td>university.degree</td>\n",
       "      <td>no</td>\n",
       "      <td>yes</td>\n",
       "      <td>no</td>\n",
       "      <td>Cell</td>\n",
       "      <td>NaN</td>\n",
       "      <td>NaN</td>\n",
       "      <td>no</td>\n",
       "    </tr>\n",
       "    <tr>\n",
       "      <th>freq</th>\n",
       "      <td>NaN</td>\n",
       "      <td>4197</td>\n",
       "      <td>10422</td>\n",
       "      <td>24928</td>\n",
       "      <td>12168</td>\n",
       "      <td>32588</td>\n",
       "      <td>8595</td>\n",
       "      <td>30532</td>\n",
       "      <td>13100</td>\n",
       "      <td>NaN</td>\n",
       "      <td>NaN</td>\n",
       "      <td>36548</td>\n",
       "    </tr>\n",
       "    <tr>\n",
       "      <th>mean</th>\n",
       "      <td>20594.50000</td>\n",
       "      <td>NaN</td>\n",
       "      <td>NaN</td>\n",
       "      <td>NaN</td>\n",
       "      <td>NaN</td>\n",
       "      <td>NaN</td>\n",
       "      <td>NaN</td>\n",
       "      <td>NaN</td>\n",
       "      <td>NaN</td>\n",
       "      <td>2.051374</td>\n",
       "      <td>962.475454</td>\n",
       "      <td>NaN</td>\n",
       "    </tr>\n",
       "    <tr>\n",
       "      <th>std</th>\n",
       "      <td>11890.09578</td>\n",
       "      <td>NaN</td>\n",
       "      <td>NaN</td>\n",
       "      <td>NaN</td>\n",
       "      <td>NaN</td>\n",
       "      <td>NaN</td>\n",
       "      <td>NaN</td>\n",
       "      <td>NaN</td>\n",
       "      <td>NaN</td>\n",
       "      <td>3.171345</td>\n",
       "      <td>186.910907</td>\n",
       "      <td>NaN</td>\n",
       "    </tr>\n",
       "    <tr>\n",
       "      <th>min</th>\n",
       "      <td>1.00000</td>\n",
       "      <td>NaN</td>\n",
       "      <td>NaN</td>\n",
       "      <td>NaN</td>\n",
       "      <td>NaN</td>\n",
       "      <td>NaN</td>\n",
       "      <td>NaN</td>\n",
       "      <td>NaN</td>\n",
       "      <td>NaN</td>\n",
       "      <td>-41.000000</td>\n",
       "      <td>0.000000</td>\n",
       "      <td>NaN</td>\n",
       "    </tr>\n",
       "    <tr>\n",
       "      <th>25%</th>\n",
       "      <td>10297.75000</td>\n",
       "      <td>NaN</td>\n",
       "      <td>NaN</td>\n",
       "      <td>NaN</td>\n",
       "      <td>NaN</td>\n",
       "      <td>NaN</td>\n",
       "      <td>NaN</td>\n",
       "      <td>NaN</td>\n",
       "      <td>NaN</td>\n",
       "      <td>1.000000</td>\n",
       "      <td>999.000000</td>\n",
       "      <td>NaN</td>\n",
       "    </tr>\n",
       "    <tr>\n",
       "      <th>50%</th>\n",
       "      <td>20594.50000</td>\n",
       "      <td>NaN</td>\n",
       "      <td>NaN</td>\n",
       "      <td>NaN</td>\n",
       "      <td>NaN</td>\n",
       "      <td>NaN</td>\n",
       "      <td>NaN</td>\n",
       "      <td>NaN</td>\n",
       "      <td>NaN</td>\n",
       "      <td>2.000000</td>\n",
       "      <td>999.000000</td>\n",
       "      <td>NaN</td>\n",
       "    </tr>\n",
       "    <tr>\n",
       "      <th>75%</th>\n",
       "      <td>30891.25000</td>\n",
       "      <td>NaN</td>\n",
       "      <td>NaN</td>\n",
       "      <td>NaN</td>\n",
       "      <td>NaN</td>\n",
       "      <td>NaN</td>\n",
       "      <td>NaN</td>\n",
       "      <td>NaN</td>\n",
       "      <td>NaN</td>\n",
       "      <td>3.000000</td>\n",
       "      <td>999.000000</td>\n",
       "      <td>NaN</td>\n",
       "    </tr>\n",
       "    <tr>\n",
       "      <th>max</th>\n",
       "      <td>41188.00000</td>\n",
       "      <td>NaN</td>\n",
       "      <td>NaN</td>\n",
       "      <td>NaN</td>\n",
       "      <td>NaN</td>\n",
       "      <td>NaN</td>\n",
       "      <td>NaN</td>\n",
       "      <td>NaN</td>\n",
       "      <td>NaN</td>\n",
       "      <td>56.000000</td>\n",
       "      <td>999.000000</td>\n",
       "      <td>NaN</td>\n",
       "    </tr>\n",
       "  </tbody>\n",
       "</table>\n",
       "</div>"
      ],
      "text/plain": [
       "          Client ID        Age Occupation Marital Status    Education Level  \\\n",
       "count   41188.00000      41188      41188          41188              41188   \n",
       "unique          NaN         77         12              4                  8   \n",
       "top             NaN  150 years     admin.        married  university.degree   \n",
       "freq            NaN       4197      10422          24928              12168   \n",
       "mean    20594.50000        NaN        NaN            NaN                NaN   \n",
       "std     11890.09578        NaN        NaN            NaN                NaN   \n",
       "min         1.00000        NaN        NaN            NaN                NaN   \n",
       "25%     10297.75000        NaN        NaN            NaN                NaN   \n",
       "50%     20594.50000        NaN        NaN            NaN                NaN   \n",
       "75%     30891.25000        NaN        NaN            NaN                NaN   \n",
       "max     41188.00000        NaN        NaN            NaN                NaN   \n",
       "\n",
       "       Credit Default Housing Loan Personal Loan Contact Method  \\\n",
       "count           41188        16399         37042          41188   \n",
       "unique              3            3             3              4   \n",
       "top                no          yes            no           Cell   \n",
       "freq            32588         8595         30532          13100   \n",
       "mean              NaN          NaN           NaN            NaN   \n",
       "std               NaN          NaN           NaN            NaN   \n",
       "min               NaN          NaN           NaN            NaN   \n",
       "25%               NaN          NaN           NaN            NaN   \n",
       "50%               NaN          NaN           NaN            NaN   \n",
       "75%               NaN          NaN           NaN            NaN   \n",
       "max               NaN          NaN           NaN            NaN   \n",
       "\n",
       "        Campaign Calls  Previous Contact Days Subscription Status  \n",
       "count     41188.000000           41188.000000               41188  \n",
       "unique             NaN                    NaN                   2  \n",
       "top                NaN                    NaN                  no  \n",
       "freq               NaN                    NaN               36548  \n",
       "mean          2.051374             962.475454                 NaN  \n",
       "std           3.171345             186.910907                 NaN  \n",
       "min         -41.000000               0.000000                 NaN  \n",
       "25%           1.000000             999.000000                 NaN  \n",
       "50%           2.000000             999.000000                 NaN  \n",
       "75%           3.000000             999.000000                 NaN  \n",
       "max          56.000000             999.000000                 NaN  "
      ]
     },
     "execution_count": 58,
     "metadata": {},
     "output_type": "execute_result"
    }
   ],
   "source": [
    "df.describe(include=\"all\")"
   ]
  },
  {
   "cell_type": "code",
   "execution_count": 59,
   "id": "dd64e17c",
   "metadata": {},
   "outputs": [
    {
     "data": {
      "text/plain": [
       "Client ID                 int64\n",
       "Age                      object\n",
       "Occupation               object\n",
       "Marital Status           object\n",
       "Education Level          object\n",
       "Credit Default           object\n",
       "Housing Loan             object\n",
       "Personal Loan            object\n",
       "Contact Method           object\n",
       "Campaign Calls            int64\n",
       "Previous Contact Days     int64\n",
       "Subscription Status      object\n",
       "dtype: object"
      ]
     },
     "execution_count": 59,
     "metadata": {},
     "output_type": "execute_result"
    }
   ],
   "source": [
    "# View data types\n",
    "df.dtypes\n",
    "\n",
    "# extract int from age"
   ]
  },
  {
   "cell_type": "code",
   "execution_count": 61,
   "id": "9d31022f",
   "metadata": {},
   "outputs": [
    {
     "data": {
      "text/html": [
       "<div>\n",
       "<style scoped>\n",
       "    .dataframe tbody tr th:only-of-type {\n",
       "        vertical-align: middle;\n",
       "    }\n",
       "\n",
       "    .dataframe tbody tr th {\n",
       "        vertical-align: top;\n",
       "    }\n",
       "\n",
       "    .dataframe thead th {\n",
       "        text-align: right;\n",
       "    }\n",
       "</style>\n",
       "<table border=\"1\" class=\"dataframe\">\n",
       "  <thead>\n",
       "    <tr style=\"text-align: right;\">\n",
       "      <th></th>\n",
       "      <th>Client ID</th>\n",
       "      <th>Age</th>\n",
       "      <th>Occupation</th>\n",
       "      <th>Marital Status</th>\n",
       "      <th>Education Level</th>\n",
       "      <th>Credit Default</th>\n",
       "      <th>Housing Loan</th>\n",
       "      <th>Personal Loan</th>\n",
       "      <th>Contact Method</th>\n",
       "      <th>Campaign Calls</th>\n",
       "      <th>Previous Contact Days</th>\n",
       "      <th>Subscription Status</th>\n",
       "    </tr>\n",
       "  </thead>\n",
       "  <tbody>\n",
       "    <tr>\n",
       "      <th>0</th>\n",
       "      <td>32885</td>\n",
       "      <td>57 years</td>\n",
       "      <td>technician</td>\n",
       "      <td>married</td>\n",
       "      <td>high.school</td>\n",
       "      <td>no</td>\n",
       "      <td>no</td>\n",
       "      <td>yes</td>\n",
       "      <td>Cell</td>\n",
       "      <td>1</td>\n",
       "      <td>999</td>\n",
       "      <td>no</td>\n",
       "    </tr>\n",
       "    <tr>\n",
       "      <th>1</th>\n",
       "      <td>3170</td>\n",
       "      <td>55 years</td>\n",
       "      <td>unknown</td>\n",
       "      <td>married</td>\n",
       "      <td>unknown</td>\n",
       "      <td>unknown</td>\n",
       "      <td>yes</td>\n",
       "      <td>no</td>\n",
       "      <td>telephone</td>\n",
       "      <td>2</td>\n",
       "      <td>999</td>\n",
       "      <td>no</td>\n",
       "    </tr>\n",
       "    <tr>\n",
       "      <th>2</th>\n",
       "      <td>32207</td>\n",
       "      <td>33 years</td>\n",
       "      <td>blue-collar</td>\n",
       "      <td>married</td>\n",
       "      <td>basic.9y</td>\n",
       "      <td>no</td>\n",
       "      <td>no</td>\n",
       "      <td>no</td>\n",
       "      <td>cellular</td>\n",
       "      <td>1</td>\n",
       "      <td>999</td>\n",
       "      <td>no</td>\n",
       "    </tr>\n",
       "    <tr>\n",
       "      <th>3</th>\n",
       "      <td>9404</td>\n",
       "      <td>36 years</td>\n",
       "      <td>admin.</td>\n",
       "      <td>married</td>\n",
       "      <td>high.school</td>\n",
       "      <td>no</td>\n",
       "      <td>no</td>\n",
       "      <td>no</td>\n",
       "      <td>Telephone</td>\n",
       "      <td>4</td>\n",
       "      <td>999</td>\n",
       "      <td>no</td>\n",
       "    </tr>\n",
       "    <tr>\n",
       "      <th>4</th>\n",
       "      <td>14021</td>\n",
       "      <td>27 years</td>\n",
       "      <td>housemaid</td>\n",
       "      <td>married</td>\n",
       "      <td>high.school</td>\n",
       "      <td>no</td>\n",
       "      <td>None</td>\n",
       "      <td>no</td>\n",
       "      <td>Cell</td>\n",
       "      <td>2</td>\n",
       "      <td>999</td>\n",
       "      <td>no</td>\n",
       "    </tr>\n",
       "    <tr>\n",
       "      <th>5</th>\n",
       "      <td>17202</td>\n",
       "      <td>58 years</td>\n",
       "      <td>retired</td>\n",
       "      <td>married</td>\n",
       "      <td>professional.course</td>\n",
       "      <td>no</td>\n",
       "      <td>None</td>\n",
       "      <td>yes</td>\n",
       "      <td>Cell</td>\n",
       "      <td>1</td>\n",
       "      <td>999</td>\n",
       "      <td>no</td>\n",
       "    </tr>\n",
       "    <tr>\n",
       "      <th>6</th>\n",
       "      <td>880</td>\n",
       "      <td>48 years</td>\n",
       "      <td>services</td>\n",
       "      <td>married</td>\n",
       "      <td>high.school</td>\n",
       "      <td>unknown</td>\n",
       "      <td>yes</td>\n",
       "      <td>no</td>\n",
       "      <td>Telephone</td>\n",
       "      <td>1</td>\n",
       "      <td>999</td>\n",
       "      <td>no</td>\n",
       "    </tr>\n",
       "    <tr>\n",
       "      <th>7</th>\n",
       "      <td>23758</td>\n",
       "      <td>150 years</td>\n",
       "      <td>admin.</td>\n",
       "      <td>divorced</td>\n",
       "      <td>university.degree</td>\n",
       "      <td>unknown</td>\n",
       "      <td>yes</td>\n",
       "      <td>None</td>\n",
       "      <td>Cell</td>\n",
       "      <td>7</td>\n",
       "      <td>999</td>\n",
       "      <td>no</td>\n",
       "    </tr>\n",
       "    <tr>\n",
       "      <th>8</th>\n",
       "      <td>10822</td>\n",
       "      <td>24 years</td>\n",
       "      <td>entrepreneur</td>\n",
       "      <td>married</td>\n",
       "      <td>university.degree</td>\n",
       "      <td>no</td>\n",
       "      <td>None</td>\n",
       "      <td>None</td>\n",
       "      <td>telephone</td>\n",
       "      <td>4</td>\n",
       "      <td>999</td>\n",
       "      <td>no</td>\n",
       "    </tr>\n",
       "    <tr>\n",
       "      <th>9</th>\n",
       "      <td>14356</td>\n",
       "      <td>36 years</td>\n",
       "      <td>technician</td>\n",
       "      <td>divorced</td>\n",
       "      <td>professional.course</td>\n",
       "      <td>no</td>\n",
       "      <td>yes</td>\n",
       "      <td>yes</td>\n",
       "      <td>Cell</td>\n",
       "      <td>4</td>\n",
       "      <td>999</td>\n",
       "      <td>no</td>\n",
       "    </tr>\n",
       "  </tbody>\n",
       "</table>\n",
       "</div>"
      ],
      "text/plain": [
       "   Client ID        Age    Occupation Marital Status      Education Level  \\\n",
       "0      32885   57 years    technician        married          high.school   \n",
       "1       3170   55 years       unknown        married              unknown   \n",
       "2      32207   33 years   blue-collar        married             basic.9y   \n",
       "3       9404   36 years        admin.        married          high.school   \n",
       "4      14021   27 years     housemaid        married          high.school   \n",
       "5      17202   58 years       retired        married  professional.course   \n",
       "6        880   48 years      services        married          high.school   \n",
       "7      23758  150 years        admin.       divorced    university.degree   \n",
       "8      10822   24 years  entrepreneur        married    university.degree   \n",
       "9      14356   36 years    technician       divorced  professional.course   \n",
       "\n",
       "  Credit Default Housing Loan Personal Loan Contact Method  Campaign Calls  \\\n",
       "0             no           no           yes           Cell               1   \n",
       "1        unknown          yes            no      telephone               2   \n",
       "2             no           no            no       cellular               1   \n",
       "3             no           no            no      Telephone               4   \n",
       "4             no         None            no           Cell               2   \n",
       "5             no         None           yes           Cell               1   \n",
       "6        unknown          yes            no      Telephone               1   \n",
       "7        unknown          yes          None           Cell               7   \n",
       "8             no         None          None      telephone               4   \n",
       "9             no          yes           yes           Cell               4   \n",
       "\n",
       "   Previous Contact Days Subscription Status  \n",
       "0                    999                  no  \n",
       "1                    999                  no  \n",
       "2                    999                  no  \n",
       "3                    999                  no  \n",
       "4                    999                  no  \n",
       "5                    999                  no  \n",
       "6                    999                  no  \n",
       "7                    999                  no  \n",
       "8                    999                  no  \n",
       "9                    999                  no  "
      ]
     },
     "execution_count": 61,
     "metadata": {},
     "output_type": "execute_result"
    }
   ],
   "source": [
    "df.head(10)"
   ]
  },
  {
   "cell_type": "code",
   "execution_count": null,
   "id": "e0604f46",
   "metadata": {},
   "outputs": [],
   "source": [
    "# List unique values of each column\n",
    "for column in df.columns:\n",
    "    unique_values = df[column].unique()\n",
    "    print(f\"Unique values in '{column}' ({len(unique_values)} unique values):\")\n",
    "    print(unique_values)\n",
    "    print()\n",
    "\n",
    "# housing loan, none (or null) can be replaced with unknown\n",
    "# personal loan, none (or null) can be replaced with unknown\n",
    "# contact method, Telephone can be replaced with telephone (assumed to be landline)\n",
    "# contact method, Cell can be replaced with cellular (assumed to be mobile)\n"
   ]
  },
  {
   "cell_type": "code",
   "execution_count": 62,
   "id": "4c8748ab",
   "metadata": {},
   "outputs": [
    {
     "data": {
      "text/html": [
       "<div>\n",
       "<style scoped>\n",
       "    .dataframe tbody tr th:only-of-type {\n",
       "        vertical-align: middle;\n",
       "    }\n",
       "\n",
       "    .dataframe tbody tr th {\n",
       "        vertical-align: top;\n",
       "    }\n",
       "\n",
       "    .dataframe thead th {\n",
       "        text-align: right;\n",
       "    }\n",
       "</style>\n",
       "<table border=\"1\" class=\"dataframe\">\n",
       "  <thead>\n",
       "    <tr style=\"text-align: right;\">\n",
       "      <th></th>\n",
       "      <th>Client ID</th>\n",
       "      <th>Age</th>\n",
       "      <th>Occupation</th>\n",
       "      <th>Marital Status</th>\n",
       "      <th>Education Level</th>\n",
       "      <th>Credit Default</th>\n",
       "      <th>Housing Loan</th>\n",
       "      <th>Personal Loan</th>\n",
       "      <th>Contact Method</th>\n",
       "      <th>Campaign Calls</th>\n",
       "      <th>Previous Contact Days</th>\n",
       "      <th>Subscription Status</th>\n",
       "    </tr>\n",
       "  </thead>\n",
       "  <tbody>\n",
       "    <tr>\n",
       "      <th>0</th>\n",
       "      <td>32885</td>\n",
       "      <td>57</td>\n",
       "      <td>technician</td>\n",
       "      <td>married</td>\n",
       "      <td>high.school</td>\n",
       "      <td>0</td>\n",
       "      <td>0</td>\n",
       "      <td>1</td>\n",
       "      <td>cellular</td>\n",
       "      <td>1</td>\n",
       "      <td>999</td>\n",
       "      <td>0</td>\n",
       "    </tr>\n",
       "    <tr>\n",
       "      <th>1</th>\n",
       "      <td>3170</td>\n",
       "      <td>55</td>\n",
       "      <td>unknown</td>\n",
       "      <td>married</td>\n",
       "      <td>unknown</td>\n",
       "      <td>-1</td>\n",
       "      <td>1</td>\n",
       "      <td>0</td>\n",
       "      <td>telephone</td>\n",
       "      <td>2</td>\n",
       "      <td>999</td>\n",
       "      <td>0</td>\n",
       "    </tr>\n",
       "    <tr>\n",
       "      <th>2</th>\n",
       "      <td>32207</td>\n",
       "      <td>33</td>\n",
       "      <td>blue-collar</td>\n",
       "      <td>married</td>\n",
       "      <td>basic.9y</td>\n",
       "      <td>0</td>\n",
       "      <td>0</td>\n",
       "      <td>0</td>\n",
       "      <td>cellular</td>\n",
       "      <td>1</td>\n",
       "      <td>999</td>\n",
       "      <td>0</td>\n",
       "    </tr>\n",
       "    <tr>\n",
       "      <th>3</th>\n",
       "      <td>9404</td>\n",
       "      <td>36</td>\n",
       "      <td>admin.</td>\n",
       "      <td>married</td>\n",
       "      <td>high.school</td>\n",
       "      <td>0</td>\n",
       "      <td>0</td>\n",
       "      <td>0</td>\n",
       "      <td>telephone</td>\n",
       "      <td>4</td>\n",
       "      <td>999</td>\n",
       "      <td>0</td>\n",
       "    </tr>\n",
       "    <tr>\n",
       "      <th>4</th>\n",
       "      <td>14021</td>\n",
       "      <td>27</td>\n",
       "      <td>housemaid</td>\n",
       "      <td>married</td>\n",
       "      <td>high.school</td>\n",
       "      <td>0</td>\n",
       "      <td>-1</td>\n",
       "      <td>0</td>\n",
       "      <td>cellular</td>\n",
       "      <td>2</td>\n",
       "      <td>999</td>\n",
       "      <td>0</td>\n",
       "    </tr>\n",
       "  </tbody>\n",
       "</table>\n",
       "</div>"
      ],
      "text/plain": [
       "   Client ID  Age   Occupation Marital Status Education Level  Credit Default  \\\n",
       "0      32885   57   technician        married     high.school               0   \n",
       "1       3170   55      unknown        married         unknown              -1   \n",
       "2      32207   33  blue-collar        married        basic.9y               0   \n",
       "3       9404   36       admin.        married     high.school               0   \n",
       "4      14021   27    housemaid        married     high.school               0   \n",
       "\n",
       "   Housing Loan  Personal Loan Contact Method  Campaign Calls  \\\n",
       "0             0              1       cellular               1   \n",
       "1             1              0      telephone               2   \n",
       "2             0              0       cellular               1   \n",
       "3             0              0      telephone               4   \n",
       "4            -1              0       cellular               2   \n",
       "\n",
       "   Previous Contact Days  Subscription Status  \n",
       "0                    999                    0  \n",
       "1                    999                    0  \n",
       "2                    999                    0  \n",
       "3                    999                    0  \n",
       "4                    999                    0  "
      ]
     },
     "execution_count": 62,
     "metadata": {},
     "output_type": "execute_result"
    }
   ],
   "source": [
    "def yes_no_binary(yes_no_str):\n",
    "    \n",
    "    if yes_no_str == 'no':\n",
    "        return 0\n",
    "    elif yes_no_str == 'yes':\n",
    "        return 1\n",
    "    else:\n",
    "        return -1\n",
    "    \n",
    "def mobile_binary(mobile_str):\n",
    "    \n",
    "    if mobile_str == 'Telephone':\n",
    "        return 'telephone'\n",
    "    elif mobile_str == 'Cell':\n",
    "        return 'cellular'\n",
    "    else:\n",
    "        return mobile_str\n",
    "\n",
    "df['Age'] = df['Age'].str.extract(r'(\\d+)').astype(int)\n",
    "df['Housing Loan'] = df['Housing Loan'].apply(yes_no_binary)\n",
    "df['Personal Loan'] = df['Personal Loan'].apply(yes_no_binary)\n",
    "df['Subscription Status'] = df['Subscription Status'].apply(yes_no_binary)\n",
    "df['Credit Default'] = df['Credit Default'].apply(yes_no_binary)\n",
    "df['Contact Method'] = df['Contact Method'].apply(mobile_binary)\n",
    "df.head()"
   ]
  },
  {
   "cell_type": "code",
   "execution_count": 63,
   "id": "48451537",
   "metadata": {},
   "outputs": [
    {
     "data": {
      "text/html": [
       "<div>\n",
       "<style scoped>\n",
       "    .dataframe tbody tr th:only-of-type {\n",
       "        vertical-align: middle;\n",
       "    }\n",
       "\n",
       "    .dataframe tbody tr th {\n",
       "        vertical-align: top;\n",
       "    }\n",
       "\n",
       "    .dataframe thead th {\n",
       "        text-align: right;\n",
       "    }\n",
       "</style>\n",
       "<table border=\"1\" class=\"dataframe\">\n",
       "  <thead>\n",
       "    <tr style=\"text-align: right;\">\n",
       "      <th></th>\n",
       "      <th>Client ID</th>\n",
       "      <th>Age</th>\n",
       "      <th>Occupation</th>\n",
       "      <th>Marital Status</th>\n",
       "      <th>Education Level</th>\n",
       "      <th>Credit Default</th>\n",
       "      <th>Housing Loan</th>\n",
       "      <th>Personal Loan</th>\n",
       "      <th>Contact Method</th>\n",
       "      <th>Campaign Calls</th>\n",
       "      <th>Previous Contact Days</th>\n",
       "      <th>Subscription Status</th>\n",
       "    </tr>\n",
       "  </thead>\n",
       "  <tbody>\n",
       "    <tr>\n",
       "      <th>0</th>\n",
       "      <td>32885</td>\n",
       "      <td>57</td>\n",
       "      <td>1</td>\n",
       "      <td>1</td>\n",
       "      <td>5</td>\n",
       "      <td>0</td>\n",
       "      <td>0</td>\n",
       "      <td>1</td>\n",
       "      <td>2</td>\n",
       "      <td>1</td>\n",
       "      <td>-1</td>\n",
       "      <td>0</td>\n",
       "    </tr>\n",
       "    <tr>\n",
       "      <th>1</th>\n",
       "      <td>3170</td>\n",
       "      <td>55</td>\n",
       "      <td>-1</td>\n",
       "      <td>1</td>\n",
       "      <td>-1</td>\n",
       "      <td>-1</td>\n",
       "      <td>1</td>\n",
       "      <td>0</td>\n",
       "      <td>1</td>\n",
       "      <td>2</td>\n",
       "      <td>-1</td>\n",
       "      <td>0</td>\n",
       "    </tr>\n",
       "    <tr>\n",
       "      <th>2</th>\n",
       "      <td>32207</td>\n",
       "      <td>33</td>\n",
       "      <td>2</td>\n",
       "      <td>1</td>\n",
       "      <td>4</td>\n",
       "      <td>0</td>\n",
       "      <td>0</td>\n",
       "      <td>0</td>\n",
       "      <td>2</td>\n",
       "      <td>1</td>\n",
       "      <td>-1</td>\n",
       "      <td>0</td>\n",
       "    </tr>\n",
       "    <tr>\n",
       "      <th>3</th>\n",
       "      <td>9404</td>\n",
       "      <td>36</td>\n",
       "      <td>3</td>\n",
       "      <td>1</td>\n",
       "      <td>5</td>\n",
       "      <td>0</td>\n",
       "      <td>0</td>\n",
       "      <td>0</td>\n",
       "      <td>1</td>\n",
       "      <td>4</td>\n",
       "      <td>-1</td>\n",
       "      <td>0</td>\n",
       "    </tr>\n",
       "    <tr>\n",
       "      <th>4</th>\n",
       "      <td>14021</td>\n",
       "      <td>27</td>\n",
       "      <td>4</td>\n",
       "      <td>1</td>\n",
       "      <td>5</td>\n",
       "      <td>0</td>\n",
       "      <td>-1</td>\n",
       "      <td>0</td>\n",
       "      <td>2</td>\n",
       "      <td>2</td>\n",
       "      <td>-1</td>\n",
       "      <td>0</td>\n",
       "    </tr>\n",
       "    <tr>\n",
       "      <th>5</th>\n",
       "      <td>17202</td>\n",
       "      <td>58</td>\n",
       "      <td>5</td>\n",
       "      <td>1</td>\n",
       "      <td>6</td>\n",
       "      <td>0</td>\n",
       "      <td>-1</td>\n",
       "      <td>1</td>\n",
       "      <td>2</td>\n",
       "      <td>1</td>\n",
       "      <td>-1</td>\n",
       "      <td>0</td>\n",
       "    </tr>\n",
       "    <tr>\n",
       "      <th>6</th>\n",
       "      <td>880</td>\n",
       "      <td>48</td>\n",
       "      <td>6</td>\n",
       "      <td>1</td>\n",
       "      <td>5</td>\n",
       "      <td>-1</td>\n",
       "      <td>1</td>\n",
       "      <td>0</td>\n",
       "      <td>1</td>\n",
       "      <td>1</td>\n",
       "      <td>-1</td>\n",
       "      <td>0</td>\n",
       "    </tr>\n",
       "    <tr>\n",
       "      <th>7</th>\n",
       "      <td>23758</td>\n",
       "      <td>150</td>\n",
       "      <td>3</td>\n",
       "      <td>2</td>\n",
       "      <td>7</td>\n",
       "      <td>-1</td>\n",
       "      <td>1</td>\n",
       "      <td>-1</td>\n",
       "      <td>2</td>\n",
       "      <td>7</td>\n",
       "      <td>-1</td>\n",
       "      <td>0</td>\n",
       "    </tr>\n",
       "    <tr>\n",
       "      <th>8</th>\n",
       "      <td>10822</td>\n",
       "      <td>24</td>\n",
       "      <td>7</td>\n",
       "      <td>1</td>\n",
       "      <td>7</td>\n",
       "      <td>0</td>\n",
       "      <td>-1</td>\n",
       "      <td>-1</td>\n",
       "      <td>1</td>\n",
       "      <td>4</td>\n",
       "      <td>-1</td>\n",
       "      <td>0</td>\n",
       "    </tr>\n",
       "    <tr>\n",
       "      <th>9</th>\n",
       "      <td>14356</td>\n",
       "      <td>36</td>\n",
       "      <td>1</td>\n",
       "      <td>2</td>\n",
       "      <td>6</td>\n",
       "      <td>0</td>\n",
       "      <td>1</td>\n",
       "      <td>1</td>\n",
       "      <td>2</td>\n",
       "      <td>4</td>\n",
       "      <td>-1</td>\n",
       "      <td>0</td>\n",
       "    </tr>\n",
       "  </tbody>\n",
       "</table>\n",
       "</div>"
      ],
      "text/plain": [
       "   Client ID  Age  Occupation  Marital Status  Education Level  \\\n",
       "0      32885   57           1               1                5   \n",
       "1       3170   55          -1               1               -1   \n",
       "2      32207   33           2               1                4   \n",
       "3       9404   36           3               1                5   \n",
       "4      14021   27           4               1                5   \n",
       "5      17202   58           5               1                6   \n",
       "6        880   48           6               1                5   \n",
       "7      23758  150           3               2                7   \n",
       "8      10822   24           7               1                7   \n",
       "9      14356   36           1               2                6   \n",
       "\n",
       "   Credit Default  Housing Loan  Personal Loan  Contact Method  \\\n",
       "0               0             0              1               2   \n",
       "1              -1             1              0               1   \n",
       "2               0             0              0               2   \n",
       "3               0             0              0               1   \n",
       "4               0            -1              0               2   \n",
       "5               0            -1              1               2   \n",
       "6              -1             1              0               1   \n",
       "7              -1             1             -1               2   \n",
       "8               0            -1             -1               1   \n",
       "9               0             1              1               2   \n",
       "\n",
       "   Campaign Calls  Previous Contact Days  Subscription Status  \n",
       "0               1                     -1                    0  \n",
       "1               2                     -1                    0  \n",
       "2               1                     -1                    0  \n",
       "3               4                     -1                    0  \n",
       "4               2                     -1                    0  \n",
       "5               1                     -1                    0  \n",
       "6               1                     -1                    0  \n",
       "7               7                     -1                    0  \n",
       "8               4                     -1                    0  \n",
       "9               4                     -1                    0  "
      ]
     },
     "execution_count": 63,
     "metadata": {},
     "output_type": "execute_result"
    }
   ],
   "source": [
    "def contact_binary(str):\n",
    "    if str == 'telephone':\n",
    "        return 1\n",
    "    elif str == 'cellular':\n",
    "        return 2\n",
    "\n",
    "def occupation_binary(str):\n",
    "    if str == 'technician':\n",
    "        return 1\n",
    "    elif str == 'blue-collar':\n",
    "        return 2\n",
    "    elif str == 'admin.':\n",
    "        return 3\n",
    "    elif str == 'housemaid':\n",
    "        return 4\n",
    "    elif str == 'retired':\n",
    "        return 5\n",
    "    elif str == 'services':\n",
    "        return 6\n",
    "    elif str == 'entrepreneur':\n",
    "        return 7\n",
    "    elif str == 'unemployed':\n",
    "        return 8\n",
    "    elif str == 'management':\n",
    "        return 9\n",
    "    elif str == 'self-employed':\n",
    "        return 10\n",
    "    elif str == 'student':\n",
    "        return 11\n",
    "    elif str == 'unknown':\n",
    "        return -1\n",
    "    \n",
    "def marital_binary(str):\n",
    "    if str == 'married':\n",
    "        return 1\n",
    "    elif str == 'divorced':\n",
    "        return 2\n",
    "    elif str == 'single':\n",
    "        return 3\n",
    "    elif str == 'unknown':\n",
    "        return -1\n",
    "\n",
    "def education_binary(str):\n",
    "    if str == 'illiterate':\n",
    "        return 1\n",
    "    elif str == 'basic.4y':\n",
    "        return 2\n",
    "    elif str == 'basic.6y':\n",
    "        return 3\n",
    "    elif str == 'basic.9y':\n",
    "        return 4\n",
    "    elif str == 'high.school':\n",
    "        return 5\n",
    "    elif str == 'professional.course':\n",
    "        return 6\n",
    "    elif str == 'university.degree':\n",
    "        return 7\n",
    "    elif str == 'unknown':\n",
    "        return -1\n",
    "    \n",
    "def previous_contact_days_binary(str):\n",
    "    if str == 999:\n",
    "        return -1\n",
    "    else:\n",
    "        return str\n",
    "\n",
    "\n",
    "df['Contact Method'] = df['Contact Method'].apply(contact_binary)\n",
    "df['Occupation'] = df['Occupation'].apply(occupation_binary)\n",
    "df['Marital Status'] = df['Marital Status'].apply(marital_binary)\n",
    "df['Education Level'] = df['Education Level'].apply(education_binary)\n",
    "df['Previous Contact Days'] = df['Previous Contact Days'].apply(previous_contact_days_binary)\n",
    "df.head(10)"
   ]
  },
  {
   "cell_type": "code",
   "execution_count": 64,
   "id": "95504f8d",
   "metadata": {},
   "outputs": [
    {
     "data": {
      "text/plain": [
       "Client ID                int64\n",
       "Age                      int64\n",
       "Occupation               int64\n",
       "Marital Status           int64\n",
       "Education Level          int64\n",
       "Credit Default           int64\n",
       "Housing Loan             int64\n",
       "Personal Loan            int64\n",
       "Contact Method           int64\n",
       "Campaign Calls           int64\n",
       "Previous Contact Days    int64\n",
       "Subscription Status      int64\n",
       "dtype: object"
      ]
     },
     "execution_count": 64,
     "metadata": {},
     "output_type": "execute_result"
    }
   ],
   "source": [
    "df.dtypes"
   ]
  },
  {
   "cell_type": "code",
   "execution_count": 65,
   "id": "5e6ab2aa",
   "metadata": {},
   "outputs": [
    {
     "data": {
      "text/html": [
       "<div>\n",
       "<style scoped>\n",
       "    .dataframe tbody tr th:only-of-type {\n",
       "        vertical-align: middle;\n",
       "    }\n",
       "\n",
       "    .dataframe tbody tr th {\n",
       "        vertical-align: top;\n",
       "    }\n",
       "\n",
       "    .dataframe thead th {\n",
       "        text-align: right;\n",
       "    }\n",
       "</style>\n",
       "<table border=\"1\" class=\"dataframe\">\n",
       "  <thead>\n",
       "    <tr style=\"text-align: right;\">\n",
       "      <th></th>\n",
       "      <th>count</th>\n",
       "      <th>mean</th>\n",
       "      <th>std</th>\n",
       "      <th>min</th>\n",
       "      <th>25%</th>\n",
       "      <th>50%</th>\n",
       "      <th>75%</th>\n",
       "      <th>max</th>\n",
       "    </tr>\n",
       "  </thead>\n",
       "  <tbody>\n",
       "    <tr>\n",
       "      <th>Client ID</th>\n",
       "      <td>41188.0</td>\n",
       "      <td>20594.500000</td>\n",
       "      <td>11890.095780</td>\n",
       "      <td>1.0</td>\n",
       "      <td>10297.75</td>\n",
       "      <td>20594.5</td>\n",
       "      <td>30891.25</td>\n",
       "      <td>41188.0</td>\n",
       "    </tr>\n",
       "    <tr>\n",
       "      <th>Age</th>\n",
       "      <td>41188.0</td>\n",
       "      <td>51.231572</td>\n",
       "      <td>34.708486</td>\n",
       "      <td>17.0</td>\n",
       "      <td>33.00</td>\n",
       "      <td>40.0</td>\n",
       "      <td>51.00</td>\n",
       "      <td>150.0</td>\n",
       "    </tr>\n",
       "    <tr>\n",
       "      <th>Occupation</th>\n",
       "      <td>41188.0</td>\n",
       "      <td>3.916092</td>\n",
       "      <td>2.831190</td>\n",
       "      <td>-1.0</td>\n",
       "      <td>2.00</td>\n",
       "      <td>3.0</td>\n",
       "      <td>6.00</td>\n",
       "      <td>11.0</td>\n",
       "    </tr>\n",
       "    <tr>\n",
       "      <th>Marital Status</th>\n",
       "      <td>41188.0</td>\n",
       "      <td>1.669807</td>\n",
       "      <td>0.891379</td>\n",
       "      <td>-1.0</td>\n",
       "      <td>1.00</td>\n",
       "      <td>1.0</td>\n",
       "      <td>3.00</td>\n",
       "      <td>3.0</td>\n",
       "    </tr>\n",
       "    <tr>\n",
       "      <th>Education Level</th>\n",
       "      <td>41188.0</td>\n",
       "      <td>4.902010</td>\n",
       "      <td>2.025168</td>\n",
       "      <td>-1.0</td>\n",
       "      <td>4.00</td>\n",
       "      <td>5.0</td>\n",
       "      <td>7.00</td>\n",
       "      <td>7.0</td>\n",
       "    </tr>\n",
       "    <tr>\n",
       "      <th>Credit Default</th>\n",
       "      <td>41188.0</td>\n",
       "      <td>-0.208653</td>\n",
       "      <td>0.406530</td>\n",
       "      <td>-1.0</td>\n",
       "      <td>0.00</td>\n",
       "      <td>0.0</td>\n",
       "      <td>0.00</td>\n",
       "      <td>1.0</td>\n",
       "    </tr>\n",
       "    <tr>\n",
       "      <th>Housing Loan</th>\n",
       "      <td>41188.0</td>\n",
       "      <td>-0.402714</td>\n",
       "      <td>0.811114</td>\n",
       "      <td>-1.0</td>\n",
       "      <td>-1.00</td>\n",
       "      <td>-1.0</td>\n",
       "      <td>0.00</td>\n",
       "      <td>1.0</td>\n",
       "    </tr>\n",
       "    <tr>\n",
       "      <th>Personal Loan</th>\n",
       "      <td>41188.0</td>\n",
       "      <td>0.014810</td>\n",
       "      <td>0.508432</td>\n",
       "      <td>-1.0</td>\n",
       "      <td>0.00</td>\n",
       "      <td>0.0</td>\n",
       "      <td>0.00</td>\n",
       "      <td>1.0</td>\n",
       "    </tr>\n",
       "    <tr>\n",
       "      <th>Contact Method</th>\n",
       "      <td>41188.0</td>\n",
       "      <td>1.634748</td>\n",
       "      <td>0.481507</td>\n",
       "      <td>1.0</td>\n",
       "      <td>1.00</td>\n",
       "      <td>2.0</td>\n",
       "      <td>2.00</td>\n",
       "      <td>2.0</td>\n",
       "    </tr>\n",
       "    <tr>\n",
       "      <th>Campaign Calls</th>\n",
       "      <td>41188.0</td>\n",
       "      <td>2.051374</td>\n",
       "      <td>3.171345</td>\n",
       "      <td>-41.0</td>\n",
       "      <td>1.00</td>\n",
       "      <td>2.0</td>\n",
       "      <td>3.00</td>\n",
       "      <td>56.0</td>\n",
       "    </tr>\n",
       "    <tr>\n",
       "      <th>Previous Contact Days</th>\n",
       "      <td>41188.0</td>\n",
       "      <td>-0.741988</td>\n",
       "      <td>1.510327</td>\n",
       "      <td>-1.0</td>\n",
       "      <td>-1.00</td>\n",
       "      <td>-1.0</td>\n",
       "      <td>-1.00</td>\n",
       "      <td>27.0</td>\n",
       "    </tr>\n",
       "    <tr>\n",
       "      <th>Subscription Status</th>\n",
       "      <td>41188.0</td>\n",
       "      <td>0.112654</td>\n",
       "      <td>0.316173</td>\n",
       "      <td>0.0</td>\n",
       "      <td>0.00</td>\n",
       "      <td>0.0</td>\n",
       "      <td>0.00</td>\n",
       "      <td>1.0</td>\n",
       "    </tr>\n",
       "  </tbody>\n",
       "</table>\n",
       "</div>"
      ],
      "text/plain": [
       "                         count          mean           std   min       25%  \\\n",
       "Client ID              41188.0  20594.500000  11890.095780   1.0  10297.75   \n",
       "Age                    41188.0     51.231572     34.708486  17.0     33.00   \n",
       "Occupation             41188.0      3.916092      2.831190  -1.0      2.00   \n",
       "Marital Status         41188.0      1.669807      0.891379  -1.0      1.00   \n",
       "Education Level        41188.0      4.902010      2.025168  -1.0      4.00   \n",
       "Credit Default         41188.0     -0.208653      0.406530  -1.0      0.00   \n",
       "Housing Loan           41188.0     -0.402714      0.811114  -1.0     -1.00   \n",
       "Personal Loan          41188.0      0.014810      0.508432  -1.0      0.00   \n",
       "Contact Method         41188.0      1.634748      0.481507   1.0      1.00   \n",
       "Campaign Calls         41188.0      2.051374      3.171345 -41.0      1.00   \n",
       "Previous Contact Days  41188.0     -0.741988      1.510327  -1.0     -1.00   \n",
       "Subscription Status    41188.0      0.112654      0.316173   0.0      0.00   \n",
       "\n",
       "                           50%       75%      max  \n",
       "Client ID              20594.5  30891.25  41188.0  \n",
       "Age                       40.0     51.00    150.0  \n",
       "Occupation                 3.0      6.00     11.0  \n",
       "Marital Status             1.0      3.00      3.0  \n",
       "Education Level            5.0      7.00      7.0  \n",
       "Credit Default             0.0      0.00      1.0  \n",
       "Housing Loan              -1.0      0.00      1.0  \n",
       "Personal Loan              0.0      0.00      1.0  \n",
       "Contact Method             2.0      2.00      2.0  \n",
       "Campaign Calls             2.0      3.00     56.0  \n",
       "Previous Contact Days     -1.0     -1.00     27.0  \n",
       "Subscription Status        0.0      0.00      1.0  "
      ]
     },
     "execution_count": 65,
     "metadata": {},
     "output_type": "execute_result"
    }
   ],
   "source": [
    "df.describe().T"
   ]
  },
  {
   "cell_type": "code",
   "execution_count": 66,
   "id": "1434efff",
   "metadata": {},
   "outputs": [
    {
     "data": {
      "application/vnd.plotly.v1+json": {
       "config": {
        "plotlyServerURL": "https://plot.ly"
       },
       "data": [
        {
         "coloraxis": "coloraxis",
         "hovertemplate": "x: %{x}<br>y: %{y}<br>color: %{z}<extra></extra>",
         "name": "0",
         "type": "heatmap",
         "x": [
          "Client ID",
          "Age",
          "Occupation",
          "Marital Status",
          "Education Level",
          "Credit Default",
          "Housing Loan",
          "Personal Loan",
          "Contact Method",
          "Campaign Calls",
          "Previous Contact Days",
          "Subscription Status"
         ],
         "xaxis": "x",
         "y": [
          "Client ID",
          "Age",
          "Occupation",
          "Marital Status",
          "Education Level",
          "Credit Default",
          "Housing Loan",
          "Personal Loan",
          "Contact Method",
          "Campaign Calls",
          "Previous Contact Days",
          "Subscription Status"
         ],
         "yaxis": "y",
         "z": [
          [
           1,
           -0.0042223893592501045,
           0.0731824679838001,
           0.1075733869974078,
           0.10478953891783586,
           0.22466570789050666,
           0.02023381783013775,
           0.009401349827340507,
           0.675249797144611,
           -0.06669747579399685,
           0.2514672680913001,
           0.29272751843188705
          ],
          [
           -0.0042223893592501045,
           1,
           0.0041920133689541065,
           -0.10219548371489136,
           -0.04562031937361779,
           -0.04502255536764233,
           0.008836502026879647,
           0.004326694018410329,
           -0.004753847491659895,
           -0.003211606139402126,
           0.00506703424113019,
           0.002640601494984654
          ],
          [
           0.0731824679838001,
           0.0041920133689541065,
           1,
           0.01678677394437742,
           0.08878778367318096,
           0.03805305925217102,
           -0.001985364853627932,
           -0.0015149296683686375,
           0.010680576572409688,
           -0.01406809690414825,
           0.03672392897279698,
           0.05081131230735968
          ],
          [
           0.1075733869974078,
           -0.10219548371489136,
           0.01678677394437742,
           1,
           0.14190018622190506,
           0.13248351032986044,
           0.0023870963476764363,
           -0.0035134208178883007,
           0.0704037207805789,
           -0.006255342065900101,
           0.03623087841590082,
           0.0503195829132204
          ],
          [
           0.10478953891783586,
           -0.04562031937361779,
           0.08878778367318096,
           0.14190018622190506,
           1,
           0.21224145097119795,
           0.00635047620929193,
           0.009473869547668882,
           0.10447098544710852,
           -0.0008379351369329844,
           0.008551834159898394,
           0.027857810769542836
          ],
          [
           0.22466570789050666,
           -0.04502255536764233,
           0.03805305925217102,
           0.13248351032986044,
           0.21224145097119795,
           1,
           0.003245143800521681,
           0.0012073609613224426,
           0.13569753170159907,
           -0.027881064699551313,
           0.0704412416775401,
           0.09919852932736689
          ],
          [
           0.02023381783013775,
           0.008836502026879647,
           -0.001985364853627932,
           0.0023870963476764363,
           0.00635047620929193,
           0.003245143800521681,
           1,
           0.04307565141430993,
           0.02055002196728833,
           -0.002669810202448906,
           0.0025694803647002104,
           0.008955699324706166
          ],
          [
           0.009401349827340507,
           0.004326694018410329,
           -0.0015149296683686375,
           -0.0035134208178883007,
           0.009473869547668882,
           0.0012073609613224426,
           0.04307565141430993,
           1,
           0.015055222665001207,
           0.004527325258898322,
           0.0023274941522135884,
           -0.0031293298624510612
          ],
          [
           0.675249797144611,
           -0.004753847491659895,
           0.010680576572409688,
           0.0704037207805789,
           0.10447098544710852,
           0.13569753170159907,
           0.02055002196728833,
           0.015055222665001207,
           1,
           -0.057209819807168445,
           0.10237982660434515,
           0.14477305571200041
          ],
          [
           -0.06669747579399685,
           -0.003211606139402126,
           -0.01406809690414825,
           -0.006255342065900101,
           -0.0008379351369329844,
           -0.027881064699551313,
           -0.002669810202448906,
           0.004527325258898322,
           -0.057209819807168445,
           1,
           -0.03317154549453586,
           -0.04054376294374417
          ],
          [
           0.2514672680913001,
           0.00506703424113019,
           0.03672392897279698,
           0.03623087841590082,
           0.008551834159898394,
           0.0704412416775401,
           0.0025694803647002104,
           0.0023274941522135884,
           0.10237982660434515,
           -0.03317154549453586,
           1,
           0.2790254321976789
          ],
          [
           0.29272751843188705,
           0.002640601494984654,
           0.05081131230735968,
           0.0503195829132204,
           0.027857810769542836,
           0.09919852932736689,
           0.008955699324706166,
           -0.0031293298624510612,
           0.14477305571200041,
           -0.04054376294374417,
           0.2790254321976789,
           1
          ]
         ]
        }
       ],
       "layout": {
        "coloraxis": {
         "colorscale": [
          [
           0,
           "#0d0887"
          ],
          [
           0.1111111111111111,
           "#46039f"
          ],
          [
           0.2222222222222222,
           "#7201a8"
          ],
          [
           0.3333333333333333,
           "#9c179e"
          ],
          [
           0.4444444444444444,
           "#bd3786"
          ],
          [
           0.5555555555555556,
           "#d8576b"
          ],
          [
           0.6666666666666666,
           "#ed7953"
          ],
          [
           0.7777777777777778,
           "#fb9f3a"
          ],
          [
           0.8888888888888888,
           "#fdca26"
          ],
          [
           1,
           "#f0f921"
          ]
         ]
        },
        "margin": {
         "t": 60
        },
        "template": {
         "data": {
          "bar": [
           {
            "error_x": {
             "color": "#2a3f5f"
            },
            "error_y": {
             "color": "#2a3f5f"
            },
            "marker": {
             "line": {
              "color": "#E5ECF6",
              "width": 0.5
             },
             "pattern": {
              "fillmode": "overlay",
              "size": 10,
              "solidity": 0.2
             }
            },
            "type": "bar"
           }
          ],
          "barpolar": [
           {
            "marker": {
             "line": {
              "color": "#E5ECF6",
              "width": 0.5
             },
             "pattern": {
              "fillmode": "overlay",
              "size": 10,
              "solidity": 0.2
             }
            },
            "type": "barpolar"
           }
          ],
          "carpet": [
           {
            "aaxis": {
             "endlinecolor": "#2a3f5f",
             "gridcolor": "white",
             "linecolor": "white",
             "minorgridcolor": "white",
             "startlinecolor": "#2a3f5f"
            },
            "baxis": {
             "endlinecolor": "#2a3f5f",
             "gridcolor": "white",
             "linecolor": "white",
             "minorgridcolor": "white",
             "startlinecolor": "#2a3f5f"
            },
            "type": "carpet"
           }
          ],
          "choropleth": [
           {
            "colorbar": {
             "outlinewidth": 0,
             "ticks": ""
            },
            "type": "choropleth"
           }
          ],
          "contour": [
           {
            "colorbar": {
             "outlinewidth": 0,
             "ticks": ""
            },
            "colorscale": [
             [
              0,
              "#0d0887"
             ],
             [
              0.1111111111111111,
              "#46039f"
             ],
             [
              0.2222222222222222,
              "#7201a8"
             ],
             [
              0.3333333333333333,
              "#9c179e"
             ],
             [
              0.4444444444444444,
              "#bd3786"
             ],
             [
              0.5555555555555556,
              "#d8576b"
             ],
             [
              0.6666666666666666,
              "#ed7953"
             ],
             [
              0.7777777777777778,
              "#fb9f3a"
             ],
             [
              0.8888888888888888,
              "#fdca26"
             ],
             [
              1,
              "#f0f921"
             ]
            ],
            "type": "contour"
           }
          ],
          "contourcarpet": [
           {
            "colorbar": {
             "outlinewidth": 0,
             "ticks": ""
            },
            "type": "contourcarpet"
           }
          ],
          "heatmap": [
           {
            "colorbar": {
             "outlinewidth": 0,
             "ticks": ""
            },
            "colorscale": [
             [
              0,
              "#0d0887"
             ],
             [
              0.1111111111111111,
              "#46039f"
             ],
             [
              0.2222222222222222,
              "#7201a8"
             ],
             [
              0.3333333333333333,
              "#9c179e"
             ],
             [
              0.4444444444444444,
              "#bd3786"
             ],
             [
              0.5555555555555556,
              "#d8576b"
             ],
             [
              0.6666666666666666,
              "#ed7953"
             ],
             [
              0.7777777777777778,
              "#fb9f3a"
             ],
             [
              0.8888888888888888,
              "#fdca26"
             ],
             [
              1,
              "#f0f921"
             ]
            ],
            "type": "heatmap"
           }
          ],
          "heatmapgl": [
           {
            "colorbar": {
             "outlinewidth": 0,
             "ticks": ""
            },
            "colorscale": [
             [
              0,
              "#0d0887"
             ],
             [
              0.1111111111111111,
              "#46039f"
             ],
             [
              0.2222222222222222,
              "#7201a8"
             ],
             [
              0.3333333333333333,
              "#9c179e"
             ],
             [
              0.4444444444444444,
              "#bd3786"
             ],
             [
              0.5555555555555556,
              "#d8576b"
             ],
             [
              0.6666666666666666,
              "#ed7953"
             ],
             [
              0.7777777777777778,
              "#fb9f3a"
             ],
             [
              0.8888888888888888,
              "#fdca26"
             ],
             [
              1,
              "#f0f921"
             ]
            ],
            "type": "heatmapgl"
           }
          ],
          "histogram": [
           {
            "marker": {
             "pattern": {
              "fillmode": "overlay",
              "size": 10,
              "solidity": 0.2
             }
            },
            "type": "histogram"
           }
          ],
          "histogram2d": [
           {
            "colorbar": {
             "outlinewidth": 0,
             "ticks": ""
            },
            "colorscale": [
             [
              0,
              "#0d0887"
             ],
             [
              0.1111111111111111,
              "#46039f"
             ],
             [
              0.2222222222222222,
              "#7201a8"
             ],
             [
              0.3333333333333333,
              "#9c179e"
             ],
             [
              0.4444444444444444,
              "#bd3786"
             ],
             [
              0.5555555555555556,
              "#d8576b"
             ],
             [
              0.6666666666666666,
              "#ed7953"
             ],
             [
              0.7777777777777778,
              "#fb9f3a"
             ],
             [
              0.8888888888888888,
              "#fdca26"
             ],
             [
              1,
              "#f0f921"
             ]
            ],
            "type": "histogram2d"
           }
          ],
          "histogram2dcontour": [
           {
            "colorbar": {
             "outlinewidth": 0,
             "ticks": ""
            },
            "colorscale": [
             [
              0,
              "#0d0887"
             ],
             [
              0.1111111111111111,
              "#46039f"
             ],
             [
              0.2222222222222222,
              "#7201a8"
             ],
             [
              0.3333333333333333,
              "#9c179e"
             ],
             [
              0.4444444444444444,
              "#bd3786"
             ],
             [
              0.5555555555555556,
              "#d8576b"
             ],
             [
              0.6666666666666666,
              "#ed7953"
             ],
             [
              0.7777777777777778,
              "#fb9f3a"
             ],
             [
              0.8888888888888888,
              "#fdca26"
             ],
             [
              1,
              "#f0f921"
             ]
            ],
            "type": "histogram2dcontour"
           }
          ],
          "mesh3d": [
           {
            "colorbar": {
             "outlinewidth": 0,
             "ticks": ""
            },
            "type": "mesh3d"
           }
          ],
          "parcoords": [
           {
            "line": {
             "colorbar": {
              "outlinewidth": 0,
              "ticks": ""
             }
            },
            "type": "parcoords"
           }
          ],
          "pie": [
           {
            "automargin": true,
            "type": "pie"
           }
          ],
          "scatter": [
           {
            "fillpattern": {
             "fillmode": "overlay",
             "size": 10,
             "solidity": 0.2
            },
            "type": "scatter"
           }
          ],
          "scatter3d": [
           {
            "line": {
             "colorbar": {
              "outlinewidth": 0,
              "ticks": ""
             }
            },
            "marker": {
             "colorbar": {
              "outlinewidth": 0,
              "ticks": ""
             }
            },
            "type": "scatter3d"
           }
          ],
          "scattercarpet": [
           {
            "marker": {
             "colorbar": {
              "outlinewidth": 0,
              "ticks": ""
             }
            },
            "type": "scattercarpet"
           }
          ],
          "scattergeo": [
           {
            "marker": {
             "colorbar": {
              "outlinewidth": 0,
              "ticks": ""
             }
            },
            "type": "scattergeo"
           }
          ],
          "scattergl": [
           {
            "marker": {
             "colorbar": {
              "outlinewidth": 0,
              "ticks": ""
             }
            },
            "type": "scattergl"
           }
          ],
          "scattermapbox": [
           {
            "marker": {
             "colorbar": {
              "outlinewidth": 0,
              "ticks": ""
             }
            },
            "type": "scattermapbox"
           }
          ],
          "scatterpolar": [
           {
            "marker": {
             "colorbar": {
              "outlinewidth": 0,
              "ticks": ""
             }
            },
            "type": "scatterpolar"
           }
          ],
          "scatterpolargl": [
           {
            "marker": {
             "colorbar": {
              "outlinewidth": 0,
              "ticks": ""
             }
            },
            "type": "scatterpolargl"
           }
          ],
          "scatterternary": [
           {
            "marker": {
             "colorbar": {
              "outlinewidth": 0,
              "ticks": ""
             }
            },
            "type": "scatterternary"
           }
          ],
          "surface": [
           {
            "colorbar": {
             "outlinewidth": 0,
             "ticks": ""
            },
            "colorscale": [
             [
              0,
              "#0d0887"
             ],
             [
              0.1111111111111111,
              "#46039f"
             ],
             [
              0.2222222222222222,
              "#7201a8"
             ],
             [
              0.3333333333333333,
              "#9c179e"
             ],
             [
              0.4444444444444444,
              "#bd3786"
             ],
             [
              0.5555555555555556,
              "#d8576b"
             ],
             [
              0.6666666666666666,
              "#ed7953"
             ],
             [
              0.7777777777777778,
              "#fb9f3a"
             ],
             [
              0.8888888888888888,
              "#fdca26"
             ],
             [
              1,
              "#f0f921"
             ]
            ],
            "type": "surface"
           }
          ],
          "table": [
           {
            "cells": {
             "fill": {
              "color": "#EBF0F8"
             },
             "line": {
              "color": "white"
             }
            },
            "header": {
             "fill": {
              "color": "#C8D4E3"
             },
             "line": {
              "color": "white"
             }
            },
            "type": "table"
           }
          ]
         },
         "layout": {
          "annotationdefaults": {
           "arrowcolor": "#2a3f5f",
           "arrowhead": 0,
           "arrowwidth": 1
          },
          "autotypenumbers": "strict",
          "coloraxis": {
           "colorbar": {
            "outlinewidth": 0,
            "ticks": ""
           }
          },
          "colorscale": {
           "diverging": [
            [
             0,
             "#8e0152"
            ],
            [
             0.1,
             "#c51b7d"
            ],
            [
             0.2,
             "#de77ae"
            ],
            [
             0.3,
             "#f1b6da"
            ],
            [
             0.4,
             "#fde0ef"
            ],
            [
             0.5,
             "#f7f7f7"
            ],
            [
             0.6,
             "#e6f5d0"
            ],
            [
             0.7,
             "#b8e186"
            ],
            [
             0.8,
             "#7fbc41"
            ],
            [
             0.9,
             "#4d9221"
            ],
            [
             1,
             "#276419"
            ]
           ],
           "sequential": [
            [
             0,
             "#0d0887"
            ],
            [
             0.1111111111111111,
             "#46039f"
            ],
            [
             0.2222222222222222,
             "#7201a8"
            ],
            [
             0.3333333333333333,
             "#9c179e"
            ],
            [
             0.4444444444444444,
             "#bd3786"
            ],
            [
             0.5555555555555556,
             "#d8576b"
            ],
            [
             0.6666666666666666,
             "#ed7953"
            ],
            [
             0.7777777777777778,
             "#fb9f3a"
            ],
            [
             0.8888888888888888,
             "#fdca26"
            ],
            [
             1,
             "#f0f921"
            ]
           ],
           "sequentialminus": [
            [
             0,
             "#0d0887"
            ],
            [
             0.1111111111111111,
             "#46039f"
            ],
            [
             0.2222222222222222,
             "#7201a8"
            ],
            [
             0.3333333333333333,
             "#9c179e"
            ],
            [
             0.4444444444444444,
             "#bd3786"
            ],
            [
             0.5555555555555556,
             "#d8576b"
            ],
            [
             0.6666666666666666,
             "#ed7953"
            ],
            [
             0.7777777777777778,
             "#fb9f3a"
            ],
            [
             0.8888888888888888,
             "#fdca26"
            ],
            [
             1,
             "#f0f921"
            ]
           ]
          },
          "colorway": [
           "#636efa",
           "#EF553B",
           "#00cc96",
           "#ab63fa",
           "#FFA15A",
           "#19d3f3",
           "#FF6692",
           "#B6E880",
           "#FF97FF",
           "#FECB52"
          ],
          "font": {
           "color": "#2a3f5f"
          },
          "geo": {
           "bgcolor": "white",
           "lakecolor": "white",
           "landcolor": "#E5ECF6",
           "showlakes": true,
           "showland": true,
           "subunitcolor": "white"
          },
          "hoverlabel": {
           "align": "left"
          },
          "hovermode": "closest",
          "mapbox": {
           "style": "light"
          },
          "paper_bgcolor": "white",
          "plot_bgcolor": "#E5ECF6",
          "polar": {
           "angularaxis": {
            "gridcolor": "white",
            "linecolor": "white",
            "ticks": ""
           },
           "bgcolor": "#E5ECF6",
           "radialaxis": {
            "gridcolor": "white",
            "linecolor": "white",
            "ticks": ""
           }
          },
          "scene": {
           "xaxis": {
            "backgroundcolor": "#E5ECF6",
            "gridcolor": "white",
            "gridwidth": 2,
            "linecolor": "white",
            "showbackground": true,
            "ticks": "",
            "zerolinecolor": "white"
           },
           "yaxis": {
            "backgroundcolor": "#E5ECF6",
            "gridcolor": "white",
            "gridwidth": 2,
            "linecolor": "white",
            "showbackground": true,
            "ticks": "",
            "zerolinecolor": "white"
           },
           "zaxis": {
            "backgroundcolor": "#E5ECF6",
            "gridcolor": "white",
            "gridwidth": 2,
            "linecolor": "white",
            "showbackground": true,
            "ticks": "",
            "zerolinecolor": "white"
           }
          },
          "shapedefaults": {
           "line": {
            "color": "#2a3f5f"
           }
          },
          "ternary": {
           "aaxis": {
            "gridcolor": "white",
            "linecolor": "white",
            "ticks": ""
           },
           "baxis": {
            "gridcolor": "white",
            "linecolor": "white",
            "ticks": ""
           },
           "bgcolor": "#E5ECF6",
           "caxis": {
            "gridcolor": "white",
            "linecolor": "white",
            "ticks": ""
           }
          },
          "title": {
           "x": 0.05
          },
          "xaxis": {
           "automargin": true,
           "gridcolor": "white",
           "linecolor": "white",
           "ticks": "",
           "title": {
            "standoff": 15
           },
           "zerolinecolor": "white",
           "zerolinewidth": 2
          },
          "yaxis": {
           "automargin": true,
           "gridcolor": "white",
           "linecolor": "white",
           "ticks": "",
           "title": {
            "standoff": 15
           },
           "zerolinecolor": "white",
           "zerolinewidth": 2
          }
         }
        },
        "xaxis": {
         "anchor": "y",
         "constrain": "domain",
         "domain": [
          0,
          1
         ],
         "scaleanchor": "y",
         "side": "top"
        },
        "yaxis": {
         "anchor": "x",
         "autorange": "reversed",
         "constrain": "domain",
         "domain": [
          0,
          1
         ]
        }
       }
      }
     },
     "metadata": {},
     "output_type": "display_data"
    }
   ],
   "source": [
    "import plotly.express as px\n",
    "\n",
    "# Store correlation in variable 'corr_df'\n",
    "corr_df = df.corr(numeric_only=True)\n",
    "\n",
    "# Create a heat map displaying correlation statistics of all the numerical features.\n",
    "fig = px.imshow(corr_df)\n",
    "fig.update_xaxes(side=\"top\")\n",
    "fig.show()"
   ]
  },
  {
   "cell_type": "code",
   "execution_count": 67,
   "id": "43c0f5d0",
   "metadata": {},
   "outputs": [
    {
     "data": {
      "image/png": "[encoded data removed]",
      "text/plain": [
       "<Figure size 1200x600 with 1 Axes>"
      ]
     },
     "metadata": {},
     "output_type": "display_data"
    }
   ],
   "source": [
    "\n",
    "\n",
    "plt.figure(figsize=(12, 6))\n",
    "sns.histplot(df['Age'], bins=20, kde=True)\n",
    "plt.title('Age Distribution')\n",
    "plt.xlabel('Absolute Age')\n",
    "plt.ylabel('Frequency')\n",
    "plt.show()"
   ]
  },
  {
   "cell_type": "code",
   "execution_count": 68,
   "id": "27d6a102",
   "metadata": {},
   "outputs": [
    {
     "data": {
      "text/html": [
       "<div>\n",
       "<style scoped>\n",
       "    .dataframe tbody tr th:only-of-type {\n",
       "        vertical-align: middle;\n",
       "    }\n",
       "\n",
       "    .dataframe tbody tr th {\n",
       "        vertical-align: top;\n",
       "    }\n",
       "\n",
       "    .dataframe thead th {\n",
       "        text-align: right;\n",
       "    }\n",
       "</style>\n",
       "<table border=\"1\" class=\"dataframe\">\n",
       "  <thead>\n",
       "    <tr style=\"text-align: right;\">\n",
       "      <th></th>\n",
       "      <th>Client ID</th>\n",
       "      <th>Age</th>\n",
       "      <th>Occupation</th>\n",
       "      <th>Marital Status</th>\n",
       "      <th>Education Level</th>\n",
       "      <th>Credit Default</th>\n",
       "      <th>Housing Loan</th>\n",
       "      <th>Personal Loan</th>\n",
       "      <th>Contact Method</th>\n",
       "      <th>Campaign Calls</th>\n",
       "      <th>Previous Contact Days</th>\n",
       "      <th>Subscription Status</th>\n",
       "    </tr>\n",
       "  </thead>\n",
       "  <tbody>\n",
       "    <tr>\n",
       "      <th>7</th>\n",
       "      <td>23758</td>\n",
       "      <td>150</td>\n",
       "      <td>3</td>\n",
       "      <td>2</td>\n",
       "      <td>7</td>\n",
       "      <td>-1</td>\n",
       "      <td>1</td>\n",
       "      <td>-1</td>\n",
       "      <td>2</td>\n",
       "      <td>7</td>\n",
       "      <td>-1</td>\n",
       "      <td>0</td>\n",
       "    </tr>\n",
       "    <tr>\n",
       "      <th>13</th>\n",
       "      <td>21872</td>\n",
       "      <td>150</td>\n",
       "      <td>3</td>\n",
       "      <td>1</td>\n",
       "      <td>7</td>\n",
       "      <td>0</td>\n",
       "      <td>0</td>\n",
       "      <td>0</td>\n",
       "      <td>2</td>\n",
       "      <td>3</td>\n",
       "      <td>-1</td>\n",
       "      <td>1</td>\n",
       "    </tr>\n",
       "    <tr>\n",
       "      <th>17</th>\n",
       "      <td>17689</td>\n",
       "      <td>150</td>\n",
       "      <td>1</td>\n",
       "      <td>1</td>\n",
       "      <td>6</td>\n",
       "      <td>0</td>\n",
       "      <td>-1</td>\n",
       "      <td>1</td>\n",
       "      <td>2</td>\n",
       "      <td>-11</td>\n",
       "      <td>-1</td>\n",
       "      <td>0</td>\n",
       "    </tr>\n",
       "    <tr>\n",
       "      <th>51</th>\n",
       "      <td>38203</td>\n",
       "      <td>150</td>\n",
       "      <td>5</td>\n",
       "      <td>1</td>\n",
       "      <td>5</td>\n",
       "      <td>0</td>\n",
       "      <td>-1</td>\n",
       "      <td>0</td>\n",
       "      <td>2</td>\n",
       "      <td>1</td>\n",
       "      <td>-1</td>\n",
       "      <td>0</td>\n",
       "    </tr>\n",
       "    <tr>\n",
       "      <th>59</th>\n",
       "      <td>29732</td>\n",
       "      <td>150</td>\n",
       "      <td>2</td>\n",
       "      <td>1</td>\n",
       "      <td>2</td>\n",
       "      <td>-1</td>\n",
       "      <td>-1</td>\n",
       "      <td>0</td>\n",
       "      <td>2</td>\n",
       "      <td>1</td>\n",
       "      <td>-1</td>\n",
       "      <td>0</td>\n",
       "    </tr>\n",
       "    <tr>\n",
       "      <th>...</th>\n",
       "      <td>...</td>\n",
       "      <td>...</td>\n",
       "      <td>...</td>\n",
       "      <td>...</td>\n",
       "      <td>...</td>\n",
       "      <td>...</td>\n",
       "      <td>...</td>\n",
       "      <td>...</td>\n",
       "      <td>...</td>\n",
       "      <td>...</td>\n",
       "      <td>...</td>\n",
       "      <td>...</td>\n",
       "    </tr>\n",
       "    <tr>\n",
       "      <th>41119</th>\n",
       "      <td>25852</td>\n",
       "      <td>150</td>\n",
       "      <td>3</td>\n",
       "      <td>1</td>\n",
       "      <td>7</td>\n",
       "      <td>0</td>\n",
       "      <td>1</td>\n",
       "      <td>0</td>\n",
       "      <td>2</td>\n",
       "      <td>1</td>\n",
       "      <td>-1</td>\n",
       "      <td>0</td>\n",
       "    </tr>\n",
       "    <tr>\n",
       "      <th>41122</th>\n",
       "      <td>11535</td>\n",
       "      <td>150</td>\n",
       "      <td>2</td>\n",
       "      <td>1</td>\n",
       "      <td>4</td>\n",
       "      <td>0</td>\n",
       "      <td>-1</td>\n",
       "      <td>0</td>\n",
       "      <td>1</td>\n",
       "      <td>2</td>\n",
       "      <td>-1</td>\n",
       "      <td>0</td>\n",
       "    </tr>\n",
       "    <tr>\n",
       "      <th>41150</th>\n",
       "      <td>10628</td>\n",
       "      <td>150</td>\n",
       "      <td>8</td>\n",
       "      <td>1</td>\n",
       "      <td>4</td>\n",
       "      <td>-1</td>\n",
       "      <td>1</td>\n",
       "      <td>0</td>\n",
       "      <td>1</td>\n",
       "      <td>5</td>\n",
       "      <td>-1</td>\n",
       "      <td>0</td>\n",
       "    </tr>\n",
       "    <tr>\n",
       "      <th>41178</th>\n",
       "      <td>41091</td>\n",
       "      <td>150</td>\n",
       "      <td>3</td>\n",
       "      <td>3</td>\n",
       "      <td>7</td>\n",
       "      <td>0</td>\n",
       "      <td>-1</td>\n",
       "      <td>1</td>\n",
       "      <td>2</td>\n",
       "      <td>2</td>\n",
       "      <td>3</td>\n",
       "      <td>0</td>\n",
       "    </tr>\n",
       "    <tr>\n",
       "      <th>41182</th>\n",
       "      <td>16851</td>\n",
       "      <td>150</td>\n",
       "      <td>9</td>\n",
       "      <td>1</td>\n",
       "      <td>-1</td>\n",
       "      <td>-1</td>\n",
       "      <td>1</td>\n",
       "      <td>0</td>\n",
       "      <td>2</td>\n",
       "      <td>1</td>\n",
       "      <td>-1</td>\n",
       "      <td>0</td>\n",
       "    </tr>\n",
       "  </tbody>\n",
       "</table>\n",
       "<p>4197 rows × 12 columns</p>\n",
       "</div>"
      ],
      "text/plain": [
       "       Client ID  Age  Occupation  Marital Status  Education Level  \\\n",
       "7          23758  150           3               2                7   \n",
       "13         21872  150           3               1                7   \n",
       "17         17689  150           1               1                6   \n",
       "51         38203  150           5               1                5   \n",
       "59         29732  150           2               1                2   \n",
       "...          ...  ...         ...             ...              ...   \n",
       "41119      25852  150           3               1                7   \n",
       "41122      11535  150           2               1                4   \n",
       "41150      10628  150           8               1                4   \n",
       "41178      41091  150           3               3                7   \n",
       "41182      16851  150           9               1               -1   \n",
       "\n",
       "       Credit Default  Housing Loan  Personal Loan  Contact Method  \\\n",
       "7                  -1             1             -1               2   \n",
       "13                  0             0              0               2   \n",
       "17                  0            -1              1               2   \n",
       "51                  0            -1              0               2   \n",
       "59                 -1            -1              0               2   \n",
       "...               ...           ...            ...             ...   \n",
       "41119               0             1              0               2   \n",
       "41122               0            -1              0               1   \n",
       "41150              -1             1              0               1   \n",
       "41178               0            -1              1               2   \n",
       "41182              -1             1              0               2   \n",
       "\n",
       "       Campaign Calls  Previous Contact Days  Subscription Status  \n",
       "7                   7                     -1                    0  \n",
       "13                  3                     -1                    1  \n",
       "17                -11                     -1                    0  \n",
       "51                  1                     -1                    0  \n",
       "59                  1                     -1                    0  \n",
       "...               ...                    ...                  ...  \n",
       "41119               1                     -1                    0  \n",
       "41122               2                     -1                    0  \n",
       "41150               5                     -1                    0  \n",
       "41178               2                      3                    0  \n",
       "41182               1                     -1                    0  \n",
       "\n",
       "[4197 rows x 12 columns]"
      ]
     },
     "execution_count": 68,
     "metadata": {},
     "output_type": "execute_result"
    }
   ],
   "source": [
    "df[(df.Age > 120)]"
   ]
  },
  {
   "cell_type": "code",
   "execution_count": 69,
   "id": "4c210838",
   "metadata": {},
   "outputs": [
    {
     "ename": "SyntaxError",
     "evalue": "invalid syntax (3104733380.py, line 1)",
     "output_type": "error",
     "traceback": [
      "\u001b[0;36m  Cell \u001b[0;32mIn[69], line 1\u001b[0;36m\u001b[0m\n\u001b[0;31m    df[(df. > 120)]\u001b[0m\n\u001b[0m            ^\u001b[0m\n\u001b[0;31mSyntaxError\u001b[0m\u001b[0;31m:\u001b[0m invalid syntax\n"
     ]
    }
   ],
   "source": [
    "df[(df. > 120)]"
   ]
  },
  {
   "cell_type": "code",
   "execution_count": null,
   "id": "4d84ac40",
   "metadata": {},
   "outputs": [
    {
     "data": {
      "image/png": "[encoded data removed]",
      "text/plain": [
       "<Figure size 1200x600 with 1 Axes>"
      ]
     },
     "metadata": {},
     "output_type": "display_data"
    }
   ],
   "source": [
    "plt.figure(figsize=(12, 6))\n",
    "sns.histplot(df['Occupation'], bins=20, kde=True)\n",
    "plt.title('Age Distribution')\n",
    "plt.xlabel('Absolute Age')\n",
    "plt.ylabel('Frequency')\n",
    "plt.show()"
   ]
  },
  {
   "cell_type": "code",
   "execution_count": null,
   "id": "a2ada779",
   "metadata": {},
   "outputs": [],
   "source": [
    "Assumption: \n",
    "Biologically impossible for age to be greater than or equal to 150\n",
    "Negative campaign calls are a result of data entry error"
   ]
  }
 ],
 "metadata": {
  "kernelspec": {
   "display_name": "Python 3",
   "language": "python",
   "name": "python3"
  },
  "language_info": {
   "codemirror_mode": {
    "name": "ipython",
    "version": 3
   },
   "file_extension": ".py",
   "mimetype": "text/x-python",
   "name": "python",
   "nbconvert_exporter": "python",
   "pygments_lexer": "ipython3",
   "version": "3.12.2"
  }
 },
 "nbformat": 4,
 "nbformat_minor": 5
}
